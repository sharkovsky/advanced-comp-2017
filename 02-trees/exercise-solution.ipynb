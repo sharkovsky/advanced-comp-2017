{
 "cells": [
  {
   "cell_type": "markdown",
   "metadata": {
    "deletable": true,
    "editable": true
   },
   "source": [
    "# Exercise 2\n",
    "\n",
    "Work on this before the next lecture on 24 April. We will talk about questions, comments, and solutions during the exercise after the third lecture.\n",
    "\n",
    "Please do form study groups! When you do, make sure you can explain everything in your own words, do not simply copy&paste from others.\n",
    "\n",
    "The solutions to a lot of these problems can probably be found with Google. Please don't. You will not learn a lot by copy&pasting from the internet.\n",
    "\n",
    "If you want to get credit/examination on this course please upload your work to **your GitHub repository** for this course **before** the next lecture starts and post a link to your repository [in this thread](https://github.com/wildtreetech/advanced-comp-2017/issues/3). If you worked on things together with others please add their names to the notebook so we can see who formed groups.\n",
    "\n",
    "---\n",
    "\n",
    "These are some useful default imports for plotting and [`numpy`](http://www.numpy.org/)"
   ]
  },
  {
   "cell_type": "code",
   "execution_count": 1,
   "metadata": {
    "collapsed": true,
    "deletable": true,
    "editable": true
   },
   "outputs": [],
   "source": [
    "%config InlineBackend.figure_format='retina'\n",
    "%matplotlib inline\n",
    "\n",
    "import numpy as np\n",
    "np.random.seed(123)\n",
    "import matplotlib.pyplot as plt\n",
    "plt.rcParams[\"figure.figsize\"] = (8, 8)\n",
    "plt.rcParams[\"font.size\"] = 14\n",
    "from sklearn.utils import check_random_state"
   ]
  },
  {
   "cell_type": "markdown",
   "metadata": {
    "deletable": true,
    "editable": true
   },
   "source": [
    "## Question 1\n",
    "\n",
    "Correlation between trees. This question is about investigating the correlation between decision trees and how this effects an ensemble constructed from them. There are three methods\n",
    "for adding randomisation to the tree growing process:\n",
    "\n",
    "1. grow each tree on a bootstrap sample\n",
    "2. for each tree select a subset of features at random\n",
    "3. pick the best random split point\n",
    "\n",
    "You can use `RandomForestClassifier`, `BaggingClassifier`, and `ExtraTreesClassifier` to achieve various different sets of the above three strategies.\n",
    "\n",
    "Show how the average amount of correlation between the trees in the ensemble varies as a function of bootstrap yes/no, number of `max_features`, and picking the best split point at random or not.\n",
    "\n",
    "Pick one of the classification datasets from http://scikit-learn.org/stable/modules/classes.html#module-sklearn.datasets."
   ]
  },
  {
   "cell_type": "code",
   "execution_count": 2,
   "metadata": {
    "collapsed": true,
    "deletable": true,
    "editable": true
   },
   "outputs": [],
   "source": [
    "from sklearn.datasets import load_iris\n",
    "from sklearn.datasets import load_digits\n",
    "\n",
    "iris = load_iris()\n",
    "digits = load_digits()"
   ]
  },
  {
   "cell_type": "code",
   "execution_count": 3,
   "metadata": {
    "collapsed": false,
    "deletable": true,
    "editable": true
   },
   "outputs": [],
   "source": [
    "#help(load_digits)"
   ]
  },
  {
   "cell_type": "markdown",
   "metadata": {
    "deletable": true,
    "editable": true
   },
   "source": [
    "#### iris dataset"
   ]
  },
  {
   "cell_type": "code",
   "execution_count": 4,
   "metadata": {
    "collapsed": false,
    "deletable": true,
    "editable": true
   },
   "outputs": [],
   "source": [
    "#print(iris.target.shape)\n",
    "#print(iris.data.shape)\n",
    "#X = iris.data\n",
    "#y = iris.target\n",
    "#print(help(plt.imshow))"
   ]
  },
  {
   "cell_type": "markdown",
   "metadata": {
    "deletable": true,
    "editable": true
   },
   "source": [
    "#### digits dataset"
   ]
  },
  {
   "cell_type": "code",
   "execution_count": 5,
   "metadata": {
    "collapsed": true,
    "deletable": true,
    "editable": true
   },
   "outputs": [],
   "source": [
    "X = digits.data\n",
    "y = digits.target\n",
    "#im = X[0,:].reshape((8,8))\n",
    "#plt.matshow(im, cmap='Greys')"
   ]
  },
  {
   "cell_type": "code",
   "execution_count": 6,
   "metadata": {
    "collapsed": false,
    "deletable": true,
    "editable": true
   },
   "outputs": [],
   "source": [
    "from sklearn.model_selection import train_test_split\n",
    "X_train, X_val, y_train, y_val = train_test_split(X,y,test_size=0.2,random_state=42)"
   ]
  },
  {
   "cell_type": "markdown",
   "metadata": {
    "collapsed": true,
    "deletable": true,
    "editable": true
   },
   "source": [
    "# Summary of results\n",
    "\n",
    "Here is a table summarizing a measure of correlation observed using:\n",
    "- different models;\n",
    "- different definitions of the error;\n",
    "- different definitions of correlation.\n",
    "\n",
    "In case of BaggingClassifier and ExtraTrees, where I tested multiple hyperparameter values, I am reporting only the ones with the _largest observed score_.\n",
    "\n",
    "### Correlation in the predictions\n",
    "\n",
    "|| Random Forest $\\pm$ std. dev.| Bagging Classifier $\\pm$ std. dev.| Extra Trees $\\pm$ std. dev.|\n",
    "|------|:----:|:----:|:----:|\n",
    "| error as average  | 0.1935 $\\pm$ 0.0045| 0.1948 $\\pm$ 0.0064| 0.2051 $\\pm$ 0.0031|\n",
    "| error as max      | 0.5670 $\\pm$ 0.0218| 0.6060 $\\pm$ 0.0252| 0.5798 $\\pm$ 0.0184|\n",
    "| error as L2 norm  | 20.98  $\\pm$ 0.4254| 21.19  $\\pm$ 0.5836| 42.71  $\\pm$ 0.6062|\n",
    "\n",
    "\n",
    "### Correlation in the errors\n",
    "\n",
    "|| Random Forest $\\pm$ std. dev.| Bagging Classifier $\\pm$ std. dev.| Extra Trees $\\pm$ std. dev.|\n",
    "|------|:----:|:----:|:----:|\n",
    "| error as average  | 0.0915 $\\pm$ 0.0026| 0.0955 $\\pm$ 0.0030| 0.0876 $\\pm$ 0.0017|\n",
    "| error as max      | 0.3616 $\\pm$ 0.0209| 0.4032 $\\pm$ 0.0272| 0.3256 $\\pm$ 0.0138|\n",
    "| error as L2 norm  | 11.87  $\\pm$ 0.2094| 12.28  $\\pm$ 0.2427| 20.61  $\\pm$ 0.2841|\n",
    "\n",
    "## Discussion\n",
    "\n",
    "### Measures of Correlation\n",
    "\n",
    "First of all, it should be noted that it does not make sense to compare values of different error measures. Also, I'm not even sure whether it makes sense to compare the value of the same error measure but using a different definition of correlation. If this latter comparison made sense, we can remark that using correlation in the errors leads us to believe that the there is less correlation for every use case considered, compared to using the definition of correlation in the predictions.\n",
    "\n",
    "Anyway, the discussion that makes the most sense, in my opinion, is to compare different ensemble models using the _same error and correlation measures_.\n",
    "In this case, we can conclude that:\n",
    "- the correlations in the Random Forest and Bagging Classifier tend to be always similar;\n",
    "- the correlations in the Extra Trees, when using definition of the error as the average, tend to be similar to the other models;\n",
    "- the correlations in the Extra Trees, when using definition of the error as the L2 norm, tend to be much larger than the other models;\n",
    "- the above two remarks lead me to think that Extra Trees tend to have roughly the same amount of correlation _on average_ as other models; however, their correlation values are _much more spread out_ than other models, in the sense that in Extra Trees it is more likely to find a pair of very highly correlated trees and a pair of absolutely uncorrelated trees, than it is in other models.\n",
    "- when considering the maximum observed correlation, the situation is not so clear: extra trees tend to be slightly less correlated in their predictions than the other ensemble models, but there is too much variability in the correlations of errors to draw any conclusion.\n",
    "\n",
    "### Interpretation\n",
    "\n",
    "Measuring correlations in the **predictions** is an idea presented in [this Github issue](https://github.com/wildtreetech/advanced-comp-2017/issues/8).\n",
    "I believe that in this case, correlation can be a proxy concept for _robustness_ or _generalizbility_, in the sense that an ensemble with a low correlation is probably better at generalizing and very likely less sensitive to small changes in the data.\n",
    "Moreover, and perhaps more importantly, the primary assumption behind ensemble methods is that, by averaging **independent** and **unbiased** weak classifiers, one can obtain a low-variance method. In this sense, correlation in the predictions can be a measure of how _independent_ the individual weak classifiers actually are.\n",
    "\n",
    "Measuring correlations in the errors is an idea presented in [this Quora answer](https://www.quora.com/How-do-I-compute-the-correlation-between-trees-in-the-random-forest) and comments.\n",
    "In this sense, I believe correlation can be an important metric for assessing the level of certainty for a given prediction. Indeed, if we knew the probability of observing a given correlation value given that the ensemble made a mistake, and we made assumptions on the prior probabilities of observing that correlation and of making an error, we could use Bayes' theorem to compute, for a given prediction, the probability of making an error given a certain observed correlation.\n",
    "\n",
    "### Scores\n",
    "\n",
    "In the end, it is important to also make note of the final validation scores for each model.\n",
    "\n",
    "The best score across all tests I made was obtained using the Extra Trees classifier (95.06%) requiring minimum 2 samples for a split. The basic Random Forest model  scored 92.78% followed closely by the Bagging Classifier using 37% of the features, which scored 92.44%. \n",
    "Somewhat surprisingly, although this was anticipated in the lecture, the completely random Extra Trees classifier appears to have the best accuracy.\n",
    "Interestingly, removing bootstrap in the Random Forest classifier yields a small increase in accuracy for this dataset up to 93.33%. However, as expected, this also yields an increase in correlation among predictions, which is an undesirable property.\n"
   ]
  },
  {
   "cell_type": "markdown",
   "metadata": {
    "deletable": true,
    "editable": true
   },
   "source": [
    "### Definition of correlation\n",
    "Following our discussion on [github issues](https://github.com/wildtreetech/advanced-comp-2017/issues/8) I decided to define the error as:\n",
    "> error = average value of the entries of $C - I$\n",
    "\n",
    "where:\n",
    "- the correlation matrix $C \\in \\mathbb{R}^{N\\times N}$ is defined based on the [Pearson product-moment correlation coefficients](https://docs.scipy.org/doc/numpy/reference/generated/numpy.corrcoef.html), where we measure the **correlation in the predictions**;\n",
    "- $I$ is the identity matrix, included to account for the fact that the correlation of any variable with itself is 1.0, and such quantities could potentially skew the computation of the average"
   ]
  },
  {
   "cell_type": "code",
   "execution_count": 7,
   "metadata": {
    "collapsed": false,
    "deletable": true,
    "editable": true
   },
   "outputs": [],
   "source": [
    "def get_prediction_correlation_matrix(forest, y_val):\n",
    "    errors = np.zeros(shape=(len(forest.estimators_), y_val.shape[0]))\n",
    "    for idx,tree in enumerate(forest.estimators_):\n",
    "        y_pred = tree.predict(X_val)\n",
    "        #errors[idx,:] = ( y_pred == y_val )\n",
    "        errors[idx,:] = y_pred\n",
    "        \n",
    "    C = np.corrcoef(errors)\n",
    "    return C"
   ]
  },
  {
   "cell_type": "code",
   "execution_count": 8,
   "metadata": {
    "collapsed": true,
    "deletable": true,
    "editable": true
   },
   "outputs": [],
   "source": [
    "def get_prediction_correlation_matrix_with_bagging(forest, y_val):\n",
    "    errors = np.zeros(shape=(len(forest.estimators_), y_val.shape[0]))\n",
    "    for idx,tree in enumerate(forest.estimators_):\n",
    "        y_pred = tree.predict( X_val[:,forest.estimators_features_[idx]] )\n",
    "        #errors[idx,:] = ( y_pred == y_val )\n",
    "        errors[idx,:] = y_pred\n",
    "        \n",
    "    C = np.corrcoef(errors)\n",
    "    return C"
   ]
  },
  {
   "cell_type": "code",
   "execution_count": 9,
   "metadata": {
    "collapsed": true,
    "deletable": true,
    "editable": true
   },
   "outputs": [],
   "source": [
    "def error_as_average(C):\n",
    "    N = C.shape[0]\n",
    "    return np.mean( np.triu( C - np.diag(np.ones(N)) ) )"
   ]
  },
  {
   "cell_type": "code",
   "execution_count": 10,
   "metadata": {
    "collapsed": true,
    "deletable": true,
    "editable": true
   },
   "outputs": [],
   "source": [
    "def error_as_max(C):\n",
    "    N = C.shape[0]\n",
    "    return np.abs( np.triu( C - np.diag(np.ones(N)) ) ).max()"
   ]
  },
  {
   "cell_type": "code",
   "execution_count": 11,
   "metadata": {
    "collapsed": true,
    "deletable": true,
    "editable": true
   },
   "outputs": [],
   "source": [
    "def error_as_L2(C):\n",
    "    N = C.shape[0]\n",
    "    return np.linalg.norm( C )"
   ]
  },
  {
   "cell_type": "code",
   "execution_count": 12,
   "metadata": {
    "collapsed": true,
    "deletable": true,
    "editable": true
   },
   "outputs": [],
   "source": [
    "def evaluate_classifier(clf,X_train,y_train,X_val, y_val):\n",
    "    errors_avg = []\n",
    "    errors_max = []\n",
    "    errors_l2 = []\n",
    "    scores = []\n",
    "    for iter in range(100):\n",
    "        clf.random_state = 42 + 3*iter\n",
    "        clf.fit(X_train,y_train)\n",
    "        C = get_prediction_correlation_matrix(clf, y_val)\n",
    "        errors_avg.append(error_as_average(C))\n",
    "        errors_max.append(error_as_max(C))\n",
    "        errors_l2.append(error_as_L2(C))\n",
    "        scores.append(forest.score(X_val, y_val))\n",
    "    errors_avg = np.array(errors_avg)\n",
    "    errors_max = np.array(errors_max)\n",
    "    errors_l2 = np.array(errors_l2)\n",
    "    scores = np.array(scores)\n",
    "    return errors_avg,errors_max,errors_l2,scores"
   ]
  },
  {
   "cell_type": "code",
   "execution_count": 13,
   "metadata": {
    "collapsed": true,
    "deletable": true,
    "editable": true
   },
   "outputs": [],
   "source": [
    "def evaluate_classifier_with_bagging(clf,X_train,y_train,X_val, y_val):\n",
    "    errors_avg = []\n",
    "    errors_max = []\n",
    "    errors_l2 = []\n",
    "    scores = []\n",
    "    for iter in range(100):\n",
    "        clf.random_state = 42 + 3*iter\n",
    "        clf.fit(X_train,y_train)\n",
    "        C = get_prediction_correlation_matrix_with_bagging(clf, y_val)\n",
    "        errors_avg.append(error_as_average(C))\n",
    "        errors_max.append(error_as_max(C))\n",
    "        errors_l2.append(error_as_L2(C))\n",
    "        scores.append(forest.score(X_val, y_val))\n",
    "    errors_avg = np.array(errors_avg)\n",
    "    errors_max = np.array(errors_max)\n",
    "    errors_l2 = np.array(errors_l2)\n",
    "    scores = np.array(scores)\n",
    "    return errors_avg,errors_max,errors_l2,scores"
   ]
  },
  {
   "cell_type": "markdown",
   "metadata": {
    "deletable": true,
    "editable": true
   },
   "source": [
    "## Estimating correlation between trees\n",
    "#### RandomForestClassifier\n",
    "with the following setup:\n",
    "- bootstrap YES\n",
    "- ALL features\n",
    "- FIXED split point"
   ]
  },
  {
   "cell_type": "code",
   "execution_count": 14,
   "metadata": {
    "collapsed": false,
    "deletable": true,
    "editable": true,
    "scrolled": true
   },
   "outputs": [
    {
     "name": "stdout",
     "output_type": "stream",
     "text": [
      "avg -- 0.28905494708 -- 0.00414337956551 -- 0.975166666667\n",
      "max -- 0.742257821212 -- 0.0161841323864 -- 0.975166666667\n",
      "L2 -- 30.1540050491 -- 0.403293501197 -- 0.975166666667\n"
     ]
    }
   ],
   "source": [
    "from sklearn.ensemble import RandomForestClassifier\n",
    "from sklearn.model_selection import train_test_split\n",
    "\n",
    "forest = RandomForestClassifier(n_estimators=50)\n",
    "errors_avg,errors_max,errors_l2,scores = evaluate_classifier( forest,X_train,y_train,X_val, y_val )\n",
    "\n",
    "print('avg', np.mean(errors_avg), np.std(errors_avg), np.mean(scores), sep=' -- ')\n",
    "print('max', np.mean(errors_max), np.std(errors_max), np.mean(scores), sep=' -- ')\n",
    "print('L2', np.mean(errors_l2), np.std(errors_l2), np.mean(scores), sep=' -- ')"
   ]
  },
  {
   "cell_type": "markdown",
   "metadata": {
    "deletable": true,
    "editable": true
   },
   "source": [
    "## Estimating correlation between trees\n",
    "#### RandomForestClassifier - NO bootstrap\n",
    "with the following setup:\n",
    "- bootstrap NO\n",
    "- ALL features\n",
    "- FIXED split point"
   ]
  },
  {
   "cell_type": "code",
   "execution_count": 15,
   "metadata": {
    "collapsed": false,
    "deletable": true,
    "editable": true
   },
   "outputs": [
    {
     "name": "stdout",
     "output_type": "stream",
     "text": [
      "avg -- 0.320194103607 -- 0.00399413286362 -- 0.977916666667\n",
      "max -- 0.790835651383 -- 0.0147032808929 -- 0.977916666667\n",
      "L2 -- 33.1895008914 -- 0.388406977622 -- 0.977916666667\n"
     ]
    }
   ],
   "source": [
    "from sklearn.ensemble import RandomForestClassifier\n",
    "from sklearn.model_selection import train_test_split\n",
    "\n",
    "forest = RandomForestClassifier(n_estimators=50, bootstrap=False)\n",
    "errors_avg,errors_max,errors_l2,scores = evaluate_classifier( forest,X_train,y_train,X_val, y_val )\n",
    "\n",
    "print('avg', np.mean(errors_avg), np.std(errors_avg), np.mean(scores), sep=' -- ')\n",
    "print('max', np.mean(errors_max), np.std(errors_max), np.mean(scores), sep=' -- ')\n",
    "print('L2', np.mean(errors_l2), np.std(errors_l2), np.mean(scores), sep=' -- ')"
   ]
  },
  {
   "cell_type": "markdown",
   "metadata": {
    "deletable": true,
    "editable": true
   },
   "source": [
    "## Estimating correlation between trees\n",
    "#### BaggingClassifier\n",
    "with the following setup:\n",
    "- bootstrap NO\n",
    "- SUBSET of features\n",
    "- FIXED split point"
   ]
  },
  {
   "cell_type": "code",
   "execution_count": 16,
   "metadata": {
    "collapsed": false,
    "deletable": true,
    "editable": true
   },
   "outputs": [
    {
     "name": "stdout",
     "output_type": "stream",
     "text": [
      "0.1 -- avg -- 0.0660333000479 -- 0.00630740765923 -- 0.925861111111\n",
      "0.1 -- max -- 0.446705545177 -- 0.0470918588613 -- 0.925861111111\n",
      "0.1 -- L2 -- 10.6256282834 -- 0.485038296244 -- 0.925861111111\n",
      "0.17 -- avg -- 0.141116500589 -- 0.00820634864443 -- 0.957638888889\n",
      "0.17 -- max -- 0.585153139801 -- 0.0348982292853 -- 0.957638888889\n",
      "0.17 -- L2 -- 16.6490212822 -- 0.734593298628 -- 0.957638888889\n",
      "0.25 -- avg -- 0.221865243251 -- 0.00788555589999 -- 0.967611111111\n",
      "0.25 -- max -- 0.690282971154 -- 0.0249094124001 -- 0.967611111111\n",
      "0.25 -- L2 -- 23.8868023121 -- 0.730532674904 -- 0.967611111111\n",
      "0.37 -- avg -- 0.272629816676 -- 0.00667800598812 -- 0.971916666667\n",
      "0.37 -- max -- 0.749451581966 -- 0.0203190463373 -- 0.971916666667\n",
      "0.37 -- L2 -- 28.6569280146 -- 0.627517607776 -- 0.971916666667\n",
      "0.5 -- avg -- 0.309310058693 -- 0.00463656947693 -- 0.973888888889\n",
      "0.5 -- max -- 0.788123817004 -- 0.0150616715965 -- 0.973888888889\n",
      "0.5 -- L2 -- 32.1563793501 -- 0.445960648917 -- 0.973888888889\n",
      "0.75 -- avg -- 0.341443437745 -- 0.00377834534199 -- 0.965416666667\n",
      "0.75 -- max -- 0.827386631193 -- 0.0131231591802 -- 0.965416666667\n",
      "0.75 -- L2 -- 35.2797807139 -- 0.369076948395 -- 0.965416666667\n"
     ]
    }
   ],
   "source": [
    "from sklearn.ensemble import BaggingClassifier\n",
    "\n",
    "errors_means_avg = []\n",
    "errors_means_max = []\n",
    "errors_means_l2 = []\n",
    "score_means = []\n",
    "\n",
    "#feats_percents = np.logspace(start=-12.0,stop=0.0, num=6, base=1.25)\n",
    "feats_percents = [0.1, 0.17, 0.25, 0.37, 0.50, 0.75]\n",
    "\n",
    "for feat in feats_percents:\n",
    "    forest = BaggingClassifier(max_features=feat, n_estimators=50)\n",
    "    errors_avg,errors_max,errors_l2,scores = evaluate_classifier_with_bagging( forest,X_train,y_train,X_val, y_val )\n",
    "\n",
    "    print(feat,'avg', np.mean(errors_avg), np.std(errors_avg), np.mean(scores), sep=' -- ')\n",
    "    print(feat,'max', np.mean(errors_max), np.std(errors_max), np.mean(scores), sep=' -- ')\n",
    "    print(feat,'L2', np.mean(errors_l2), np.std(errors_l2), np.mean(scores), sep=' -- ')\n",
    "    errors_means_avg.append(np.mean(errors_avg))\n",
    "    errors_means_max.append(np.mean(errors_max))\n",
    "    errors_means_l2.append(np.mean(errors_l2))\n",
    "    score_means.append(np.mean(scores))"
   ]
  },
  {
   "cell_type": "code",
   "execution_count": 17,
   "metadata": {
    "collapsed": false,
    "deletable": true,
    "editable": true
   },
   "outputs": [
    {
     "data": {
      "text/plain": [
       "<matplotlib.text.Text at 0x11143c748>"
      ]
     },
     "execution_count": 17,
     "metadata": {},
     "output_type": "execute_result"
    },
    {
     "data": {
      "image/png": "[encoded data removed]",
      "text/plain": [
       "<matplotlib.figure.Figure at 0x10fe94f60>"
      ]
     },
     "metadata": {
      "image/png": {
       "height": 489,
       "width": 499
      }
     },
     "output_type": "display_data"
    }
   ],
   "source": [
    "ax = plt.subplot(131)\n",
    "plt.plot(feats_percents, errors_means_avg, 'r*-')\n",
    "plt.plot(feats_percents, score_means, 'b*-')\n",
    "ax.set_title('error as average')\n",
    "ax = plt.subplot(132)\n",
    "plt.plot(feats_percents, errors_means_max, 'r*-')\n",
    "plt.plot(feats_percents, score_means, 'b*-')\n",
    "ax.set_title('error as max')\n",
    "ax = plt.subplot(133)\n",
    "plt.plot(feats_percents, errors_means_l2, 'r*-')\n",
    "plt.plot(feats_percents, score_means, 'b*-')\n",
    "ax.set_title('error as L2')"
   ]
  },
  {
   "cell_type": "markdown",
   "metadata": {
    "deletable": true,
    "editable": true
   },
   "source": [
    "## Estimating correlation between trees\n",
    "#### ExtraTreesClassifier\n",
    "with the following setup:\n",
    "- bootstrap NO\n",
    "- ALL of features\n",
    "- RANDOM split points"
   ]
  },
  {
   "cell_type": "code",
   "execution_count": 18,
   "metadata": {
    "collapsed": false,
    "deletable": true,
    "editable": true,
    "scrolled": true
   },
   "outputs": [
    {
     "name": "stdout",
     "output_type": "stream",
     "text": [
      "2 -- avg -- 0.293041654125 -- 0.00339919343347 -- 0.981472222222\n",
      "2 -- max -- 0.760087642981 -- 0.0138206649303 -- 0.981472222222\n",
      "2 -- L2 -- 59.9768731787 -- 0.663991273234 -- 0.981472222222\n",
      "4 -- avg -- 0.286543614034 -- 0.00274126408576 -- 0.980555555556\n",
      "4 -- max -- 0.751157926832 -- 0.0166646106024 -- 0.980555555556\n",
      "4 -- L2 -- 58.7015800757 -- 0.537974509064 -- 0.980555555556\n",
      "6 -- avg -- 0.282586875207 -- 0.00288405565885 -- 0.979583333333\n",
      "6 -- max -- 0.746860052783 -- 0.0169354364644 -- 0.979583333333\n",
      "6 -- L2 -- 57.9291076619 -- 0.56473861733 -- 0.979583333333\n"
     ]
    }
   ],
   "source": [
    "from sklearn.ensemble import ExtraTreesClassifier\n",
    "\n",
    "errors_means_avg = []\n",
    "errors_means_max = []\n",
    "errors_means_l2 = []\n",
    "score_means = []\n",
    "\n",
    "splits = [2,4,6]\n",
    "for split in splits:\n",
    "    forest = ExtraTreesClassifier(min_samples_split=split, n_estimators=100)\n",
    "    errors_avg,errors_max,errors_l2,scores = evaluate_classifier( forest,X_train,y_train,X_val, y_val )\n",
    "\n",
    "    print(split,'avg', np.mean(errors_avg), np.std(errors_avg), np.mean(scores), sep=' -- ')\n",
    "    print(split,'max', np.mean(errors_max), np.std(errors_max), np.mean(scores), sep=' -- ')\n",
    "    print(split,'L2', np.mean(errors_l2), np.std(errors_l2), np.mean(scores), sep=' -- ')\n",
    "    errors_means_avg.append(np.mean(errors_avg))\n",
    "    errors_means_max.append(np.mean(errors_max))\n",
    "    errors_means_l2.append(np.mean(errors_l2))\n",
    "    score_means.append(np.mean(scores))"
   ]
  },
  {
   "cell_type": "code",
   "execution_count": 19,
   "metadata": {
    "collapsed": false,
    "deletable": true,
    "editable": true
   },
   "outputs": [
    {
     "data": {
      "text/plain": [
       "<matplotlib.text.Text at 0x112ee02b0>"
      ]
     },
     "execution_count": 19,
     "metadata": {},
     "output_type": "execute_result"
    },
    {
     "data": {
      "image/png": "[encoded data removed]",
      "text/plain": [
       "<matplotlib.figure.Figure at 0x11142dd30>"
      ]
     },
     "metadata": {
      "image/png": {
       "height": 489,
       "width": 491
      }
     },
     "output_type": "display_data"
    }
   ],
   "source": [
    "ax = plt.subplot(131)\n",
    "plt.plot(splits, errors_means_avg, 'r*-')\n",
    "plt.plot(splits, score_means, 'b*-')\n",
    "ax.set_title('error as average')\n",
    "ax = plt.subplot(132)\n",
    "plt.plot(splits, errors_means_max, 'r*-')\n",
    "plt.plot(splits, score_means, 'b*-')\n",
    "ax.set_title('error as max')\n",
    "ax = plt.subplot(133)\n",
    "plt.plot(splits, errors_means_l2, 'r*-')\n",
    "plt.plot(splits, score_means, 'b*-')\n",
    "ax.set_title('error as L2')"
   ]
  },
  {
   "cell_type": "markdown",
   "metadata": {
    "deletable": true,
    "editable": true
   },
   "source": [
    "### Slightly changing the definition of correlation\n",
    "Following our discussion on [github issues](https://github.com/wildtreetech/advanced-comp-2017/issues/8) I decided to define the error as:\n",
    "> error = average value of the entries of $C - I$\n",
    "\n",
    "where:\n",
    "- the correlation matrix $C \\in \\mathbb{R}^{N\\times N}$ is defined based on the [Pearson product-moment correlation coefficients](https://docs.scipy.org/doc/numpy/reference/generated/numpy.corrcoef.html), where we measure the **correlation in the errors**;\n",
    "- $I$ is the identity matrix, included to account for the fact that the correlation of any variable with itself is 1.0, and such quantities could potentially skew the computation of the average"
   ]
  },
  {
   "cell_type": "code",
   "execution_count": 20,
   "metadata": {
    "collapsed": false,
    "deletable": true,
    "editable": true
   },
   "outputs": [],
   "source": [
    "def get_error_correlation_matrix(forest, y_val):\n",
    "    errors = np.zeros(shape=(len(forest.estimators_), y_val.shape[0]))\n",
    "    for idx,tree in enumerate(forest.estimators_):\n",
    "        y_pred = tree.predict(X_val)\n",
    "        # difference is here\n",
    "        errors[idx,:] = ( y_pred == y_val )\n",
    "        \n",
    "    C = np.corrcoef(errors)\n",
    "    return C"
   ]
  },
  {
   "cell_type": "code",
   "execution_count": 21,
   "metadata": {
    "collapsed": true,
    "deletable": true,
    "editable": true
   },
   "outputs": [],
   "source": [
    "def get_error_correlation_matrix_with_bagging(forest, y_val):\n",
    "    errors = np.zeros(shape=(len(forest.estimators_), y_val.shape[0]))\n",
    "    for idx,tree in enumerate(forest.estimators_):\n",
    "        y_pred = tree.predict( X_val[:,forest.estimators_features_[idx]] )\n",
    "        errors[idx,:] = ( y_pred == y_val )\n",
    "        \n",
    "    C = np.corrcoef(errors)\n",
    "    return C"
   ]
  },
  {
   "cell_type": "code",
   "execution_count": 22,
   "metadata": {
    "collapsed": true,
    "deletable": true,
    "editable": true
   },
   "outputs": [],
   "source": [
    "def error_as_average(C):\n",
    "    N = C.shape[0]\n",
    "    return np.mean( np.triu( C - np.diag(np.ones(N)) ) )"
   ]
  },
  {
   "cell_type": "code",
   "execution_count": 23,
   "metadata": {
    "collapsed": true,
    "deletable": true,
    "editable": true
   },
   "outputs": [],
   "source": [
    "def error_as_max(C):\n",
    "    N = C.shape[0]\n",
    "    return np.abs( np.triu( C - np.diag(np.ones(N)) ) ).max()"
   ]
  },
  {
   "cell_type": "code",
   "execution_count": 24,
   "metadata": {
    "collapsed": true,
    "deletable": true,
    "editable": true
   },
   "outputs": [],
   "source": [
    "def error_as_L2(C):\n",
    "    N = C.shape[0]\n",
    "    return np.linalg.norm( C )"
   ]
  },
  {
   "cell_type": "code",
   "execution_count": 25,
   "metadata": {
    "collapsed": true,
    "deletable": true,
    "editable": true
   },
   "outputs": [],
   "source": [
    "def evaluate_classifier(clf,X_train,y_train,X_val, y_val):\n",
    "    errors_avg = []\n",
    "    errors_max = []\n",
    "    errors_l2 = []\n",
    "    scores = []\n",
    "    for iter in range(100):\n",
    "        clf.random_state = 42 + 3*iter\n",
    "        clf.fit(X_train,y_train)\n",
    "        C = get_error_correlation_matrix(clf, y_val)\n",
    "        errors_avg.append(error_as_average(C))\n",
    "        errors_max.append(error_as_max(C))\n",
    "        errors_l2.append(error_as_L2(C))\n",
    "        scores.append(forest.score(X_val, y_val))\n",
    "    errors_avg = np.array(errors_avg)\n",
    "    errors_max = np.array(errors_max)\n",
    "    errors_l2 = np.array(errors_l2)\n",
    "    scores = np.array(scores)\n",
    "    return errors_avg,errors_max,errors_l2,scores"
   ]
  },
  {
   "cell_type": "code",
   "execution_count": 26,
   "metadata": {
    "collapsed": true,
    "deletable": true,
    "editable": true
   },
   "outputs": [],
   "source": [
    "def evaluate_classifier_with_bagging(clf,X_train,y_train,X_val, y_val):\n",
    "    errors_avg = []\n",
    "    errors_max = []\n",
    "    errors_l2 = []\n",
    "    scores = []\n",
    "    for iter in range(100):\n",
    "        clf.random_state = 42 + 3*iter\n",
    "        clf.fit(X_train,y_train)\n",
    "        C = get_error_correlation_matrix_with_bagging(clf, y_val)\n",
    "        errors_avg.append(error_as_average(C))\n",
    "        errors_max.append(error_as_max(C))\n",
    "        errors_l2.append(error_as_L2(C))\n",
    "        scores.append(forest.score(X_val, y_val))\n",
    "    errors_avg = np.array(errors_avg)\n",
    "    errors_max = np.array(errors_max)\n",
    "    errors_l2 = np.array(errors_l2)\n",
    "    scores = np.array(scores)\n",
    "    return errors_avg,errors_max,errors_l2,scores"
   ]
  },
  {
   "cell_type": "code",
   "execution_count": 27,
   "metadata": {
    "collapsed": false,
    "deletable": true,
    "editable": true,
    "scrolled": true
   },
   "outputs": [
    {
     "name": "stdout",
     "output_type": "stream",
     "text": [
      "avg -- 0.0893534384561 -- 0.00312003566608 -- 0.975166666667\n",
      "max -- 0.389619728247 -- 0.024271273749 -- 0.975166666667\n",
      "L2 -- 11.8541237718 -- 0.24009729261 -- 0.975166666667\n"
     ]
    }
   ],
   "source": [
    "from sklearn.ensemble import RandomForestClassifier\n",
    "from sklearn.model_selection import train_test_split\n",
    "\n",
    "forest = RandomForestClassifier(n_estimators=50)\n",
    "errors_avg,errors_max,errors_l2,scores = evaluate_classifier( forest,X_train,y_train,X_val, y_val )\n",
    "\n",
    "print('avg', np.mean(errors_avg), np.std(errors_avg), np.mean(scores), sep=' -- ')\n",
    "print('max', np.mean(errors_max), np.std(errors_max), np.mean(scores), sep=' -- ')\n",
    "print('L2', np.mean(errors_l2), np.std(errors_l2), np.mean(scores), sep=' -- ')"
   ]
  },
  {
   "cell_type": "code",
   "execution_count": 28,
   "metadata": {
    "collapsed": false,
    "deletable": true,
    "editable": true
   },
   "outputs": [
    {
     "name": "stdout",
     "output_type": "stream",
     "text": [
      "0.1 -- avg -- 0.0389581538739 -- 0.00294940715447 -- 0.925861111111\n",
      "0.1 -- max -- 0.340693914924 -- 0.0402624611807 -- 0.925861111111\n",
      "0.1 -- L2 -- 8.80837078772 -- 0.139368154147 -- 0.925861111111\n",
      "0.17 -- avg -- 0.0589167061362 -- 0.00335695898417 -- 0.957638888889\n",
      "0.17 -- max -- 0.343724440695 -- 0.0249699931483 -- 0.957638888889\n",
      "0.17 -- L2 -- 9.81480192059 -- 0.209775120738 -- 0.957638888889\n",
      "0.25 -- avg -- 0.0775125854827 -- 0.00330743609871 -- 0.967611111111\n",
      "0.25 -- max -- 0.379351706477 -- 0.0258040221861 -- 0.967611111111\n",
      "0.25 -- L2 -- 11.0169570079 -- 0.237165068551 -- 0.967611111111\n",
      "0.37 -- avg -- 0.0890764723931 -- 0.00323940617691 -- 0.971916666667\n",
      "0.37 -- max -- 0.404983947489 -- 0.0290228781106 -- 0.971916666667\n",
      "0.37 -- L2 -- 11.882463469 -- 0.248473930099 -- 0.971916666667\n",
      "0.5 -- avg -- 0.101119853803 -- 0.00331841234872 -- 0.973888888889\n",
      "0.5 -- max -- 0.440465771639 -- 0.025455773191 -- 0.973888888889\n",
      "0.5 -- L2 -- 12.8607136665 -- 0.265066269935 -- 0.973888888889\n",
      "0.75 -- avg -- 0.125720125975 -- 0.00460118844847 -- 0.965416666667\n",
      "0.75 -- max -- 0.521317873834 -- 0.029976481775 -- 0.965416666667\n",
      "0.75 -- L2 -- 14.9950865261 -- 0.403038749906 -- 0.965416666667\n"
     ]
    }
   ],
   "source": [
    "from sklearn.ensemble import BaggingClassifier\n",
    "\n",
    "errors_means_avg = []\n",
    "errors_means_max = []\n",
    "errors_means_l2 = []\n",
    "score_means = []\n",
    "\n",
    "#feats_percents = np.logspace(start=-12.0,stop=0.0, num=6, base=1.25)\n",
    "feats_percents = [0.1, 0.17, 0.25, 0.37, 0.50, 0.75]\n",
    "\n",
    "for feat in feats_percents:\n",
    "    forest = BaggingClassifier(max_features=feat, n_estimators=50)\n",
    "    errors_avg,errors_max,errors_l2,scores = evaluate_classifier_with_bagging( forest,X_train,y_train,X_val, y_val )\n",
    "\n",
    "    print(feat,'avg', np.mean(errors_avg), np.std(errors_avg), np.mean(scores), sep=' -- ')\n",
    "    print(feat,'max', np.mean(errors_max), np.std(errors_max), np.mean(scores), sep=' -- ')\n",
    "    print(feat,'L2', np.mean(errors_l2), np.std(errors_l2), np.mean(scores), sep=' -- ')\n",
    "    errors_means_avg.append(np.mean(errors_avg))\n",
    "    errors_means_max.append(np.mean(errors_max))\n",
    "    errors_means_l2.append(np.mean(errors_l2))\n",
    "    score_means.append(np.mean(scores))"
   ]
  },
  {
   "cell_type": "code",
   "execution_count": 29,
   "metadata": {
    "collapsed": false,
    "deletable": true,
    "editable": true
   },
   "outputs": [
    {
     "data": {
      "text/plain": [
       "<matplotlib.text.Text at 0x1125ad198>"
      ]
     },
     "execution_count": 29,
     "metadata": {},
     "output_type": "execute_result"
    },
    {
     "data": {
      "image/png": "[encoded data removed]",
      "text/plain": [
       "<matplotlib.figure.Figure at 0x10fe86470>"
      ]
     },
     "metadata": {
      "image/png": {
       "height": 489,
       "width": 499
      }
     },
     "output_type": "display_data"
    }
   ],
   "source": [
    "ax = plt.subplot(131)\n",
    "plt.plot(feats_percents, errors_means_avg, 'r*-')\n",
    "plt.plot(feats_percents, score_means, 'b*-')\n",
    "ax.set_title('error as average')\n",
    "ax = plt.subplot(132)\n",
    "plt.plot(feats_percents, errors_means_max, 'r*-')\n",
    "plt.plot(feats_percents, score_means, 'b*-')\n",
    "ax.set_title('error as max')\n",
    "ax = plt.subplot(133)\n",
    "plt.plot(feats_percents, errors_means_l2, 'r*-')\n",
    "plt.plot(feats_percents, score_means, 'b*-')\n",
    "ax.set_title('error as L2')"
   ]
  },
  {
   "cell_type": "code",
   "execution_count": 30,
   "metadata": {
    "collapsed": false,
    "deletable": true,
    "editable": true
   },
   "outputs": [
    {
     "name": "stdout",
     "output_type": "stream",
     "text": [
      "2 -- avg -- 0.080732286941 -- 0.00180140207638 -- 0.981472222222\n",
      "2 -- max -- 0.380708859513 -- 0.0188199667234 -- 0.981472222222\n",
      "2 -- L2 -- 19.9391915722 -- 0.296699789128 -- 0.981472222222\n",
      "4 -- avg -- 0.0847631174431 -- 0.00185700965061 -- 0.980555555556\n",
      "4 -- max -- 0.39031403097 -- 0.0183810888696 -- 0.980555555556\n",
      "4 -- L2 -- 20.5960499139 -- 0.308489791588 -- 0.980555555556\n",
      "6 -- avg -- 0.0850571342328 -- 0.0023198541084 -- 0.979583333333\n",
      "6 -- max -- 0.388997973334 -- 0.0192982123836 -- 0.979583333333\n",
      "6 -- L2 -- 20.6583844923 -- 0.392032675158 -- 0.979583333333\n"
     ]
    }
   ],
   "source": [
    "from sklearn.ensemble import ExtraTreesClassifier\n",
    "\n",
    "errors_means_avg = []\n",
    "errors_means_max = []\n",
    "errors_means_l2 = []\n",
    "score_means = []\n",
    "\n",
    "splits = [2, 4, 6]\n",
    "for split in splits:\n",
    "    forest = ExtraTreesClassifier(min_samples_split=split, n_estimators=100)\n",
    "    errors_avg,errors_max,errors_l2,scores = evaluate_classifier( forest,X_train,y_train,X_val, y_val )\n",
    "\n",
    "    print(split,'avg', np.mean(errors_avg), np.std(errors_avg), np.mean(scores), sep=' -- ')\n",
    "    print(split,'max', np.mean(errors_max), np.std(errors_max), np.mean(scores), sep=' -- ')\n",
    "    print(split,'L2', np.mean(errors_l2), np.std(errors_l2), np.mean(scores), sep=' -- ')\n",
    "    errors_means_avg.append(np.mean(errors_avg))\n",
    "    errors_means_max.append(np.mean(errors_max))\n",
    "    errors_means_l2.append(np.mean(errors_l2))\n",
    "    score_means.append(np.mean(scores))"
   ]
  },
  {
   "cell_type": "code",
   "execution_count": 31,
   "metadata": {
    "collapsed": false,
    "deletable": true,
    "editable": true
   },
   "outputs": [
    {
     "data": {
      "text/plain": [
       "<matplotlib.text.Text at 0x1139cf278>"
      ]
     },
     "execution_count": 31,
     "metadata": {},
     "output_type": "execute_result"
    },
    {
     "data": {
      "image/png": "[encoded data removed]",
      "text/plain": [
       "<matplotlib.figure.Figure at 0x112e214a8>"
      ]
     },
     "metadata": {
      "image/png": {
       "height": 489,
       "width": 491
      }
     },
     "output_type": "display_data"
    }
   ],
   "source": [
    "ax = plt.subplot(131)\n",
    "plt.plot(splits, errors_means_avg, 'r*-')\n",
    "plt.plot(splits, score_means, 'b*-')\n",
    "ax.set_title('error as average')\n",
    "ax = plt.subplot(132)\n",
    "plt.plot(splits, errors_means_max, 'r*-')\n",
    "plt.plot(splits, score_means, 'b*-')\n",
    "ax.set_title('error as max')\n",
    "ax = plt.subplot(133)\n",
    "plt.plot(splits, errors_means_l2, 'r*-')\n",
    "plt.plot(splits, score_means, 'b*-')\n",
    "ax.set_title('error as L2')"
   ]
  },
  {
   "cell_type": "markdown",
   "metadata": {
    "deletable": true,
    "editable": true
   },
   "source": [
    "---\n",
    "\n",
    "## Question 2\n",
    "\n",
    "Compare the feature importances calculated by a `RandomForestClassifier`, `ExtraTreesClassifier` and `GradientBoostedTreesClassifier` on the digits dataset. You might have to tune `n_estimators` to get good performance. Which parts of the images is the most important and do you agree with the interpretation of the classifiers? (Bonus) Do the importances change if you change to problem to be a classification problem of odd vs even digit?\n",
    "\n",
    "You can load the data set with: http://scikit-learn.org/stable/modules/generated/sklearn.datasets.load_digits.html#sklearn.datasets.load_digits"
   ]
  },
  {
   "cell_type": "markdown",
   "metadata": {
    "deletable": true,
    "editable": true
   },
   "source": [
    "# Summary of results\n",
    "\n",
    "### Scores\n",
    "\n",
    "The scores obtained by the different methods were:\n",
    "- Random Forest     : 94.30%\n",
    "- Extra Trees       : 95.69%\n",
    "- Gradient Boosting : 89.30%\n",
    "\n",
    "As in question 1, strangely the less sophisticated method appears to get better results. However, this could be an artifact of how simple the dataset is, or just its particular structure.\n",
    "For tuning the `num_estimators` hyperparameter, for Random Forest and Extra Trees I just increased it until there wasn't any improvement. For Gradient Boosting I performed a grid search over some parameters that I believed to be plausible. It was surprising to me to see that the only relevant parameter for accuracy was `num_estimators`, and neither `max_depth` nor `learning_rate` appeared to have much effect on this dataset, when it come to achieving max accuracy (they obviously had local effects). \n",
    "\n",
    "### Feature importance\n",
    "\n",
    "The reported feature importances for each method are shown here.\n",
    "\n",
    "<img src=\"images/importances_RandomForest.png\" style=\"float: left\" width=\"30%\" height=\"30%\"/>\n",
    "<img src=\"images/importances_ExtraTrees.png\" style=\"float: left\" width=\"30%\" height=\"30%\"/>\n",
    "<img src=\"images/importances_GradientBoosted.png\" style=\"float: left\" width=\"30%\" height=\"30%\"/>\n",
    "<p style=\"clear: both;\">\n",
    "\n",
    "The first remark to make is that all methods assign a markedly low importance to the left and right borders, but not so much to the top and bottom ones. This is to be expected since all the images have been centered.\n",
    "The second remark is that Random Forests and Extra Trees display very similar feature importances. Indeed, 4 out of the top 5 features are the same and in the same order for these two methods. Both methods appear to have an horizontal S shape in their pattern of feature importance, concentrated in the center of the images. I guess this can be attributed to the fact whether a digit has a horizontal line at its center (e.g. 3,4,5,6,8) is a good discriminatory feature.\n",
    "\n",
    "Gradient Boosting appears to be quite different from the other two methods. First of all, its feature importances seem more _spread out_ as opposed to concentrated in the center. It also assigns some importance to the lower right pixels, that the other two methods ignored. I am guessing this has something to do with how the residuals look like in the iterative process, but I am still quite confused by it.\n",
    "\n",
    "### Bonus: binary classification\n",
    "\n",
    "The reported feature importances for each method are shown here.\n",
    "\n",
    "<img src=\"images/importances_RandomForest_binary.png\" style=\"float: left\" width=\"30%\" height=\"30%\"/>\n",
    "<img src=\"images/importances_ExtraTrees_binary.png\" style=\"float: left\" width=\"30%\" height=\"30%\"/>\n",
    "<img src=\"images/importances_GradientBoosted_binary.png\" style=\"float: left\" width=\"30%\" height=\"30%\"/>\n",
    "<p style=\"clear: both;\">\n",
    "\n",
    "The feature importances appear to have dramatically changed, although they still retain some features of the previous ones. Firstly, the most important pixel doesn't change between the multi-class and the binary classification tasks. Moreover, the central-vertical dimension of feature importances remains intact. However, there seems to be a much lower _spread_ of importances in the binary classification. This is less visible in the GradientBoosted case, possibly because the _spread_ was already large in the multi-class task.\n",
    "\n",
    "The obtained scores are:\n",
    "- Random Forest     : 94.92%\n",
    "- Extra Trees       : 96.11%\n",
    "- Gradient Boosting : 94.43%\n",
    "\n",
    "An interesting thing to note here is that, while all the scores somehow improved when moving to the simpler binary classification task, the GradienBoosting score showed a much more significant improvement, although the Extra Trees remain the most accurate on this dataset.\n"
   ]
  },
  {
   "cell_type": "markdown",
   "metadata": {
    "deletable": true,
    "editable": true
   },
   "source": [
    "## RandomForest"
   ]
  },
  {
   "cell_type": "code",
   "execution_count": 32,
   "metadata": {
    "collapsed": false,
    "deletable": true,
    "editable": true
   },
   "outputs": [
    {
     "data": {
      "text/plain": [
       "0.97499999999999998"
      ]
     },
     "execution_count": 32,
     "metadata": {},
     "output_type": "execute_result"
    }
   ],
   "source": [
    "forest = RandomForestClassifier(n_estimators=1200)\n",
    "forest.random_state = 42*42\n",
    "forest.fit(X_train,y_train)\n",
    "forest.score(X_val, y_val)"
   ]
  },
  {
   "cell_type": "code",
   "execution_count": 33,
   "metadata": {
    "collapsed": false,
    "deletable": true,
    "editable": true
   },
   "outputs": [
    {
     "name": "stdout",
     "output_type": "stream",
     "text": [
      "Feature ranking:\n",
      "1. feature 21 (0.047837)\n",
      "2. feature 43 (0.045494)\n",
      "3. feature 26 (0.041198)\n",
      "4. feature 36 (0.040015)\n",
      "5. feature 42 (0.037224)\n",
      "6. feature 28 (0.035104)\n",
      "7. feature 30 (0.031798)\n",
      "8. feature 20 (0.031560)\n",
      "9. feature 33 (0.029237)\n",
      "10. feature 61 (0.028706)\n",
      "11. feature 13 (0.027397)\n",
      "12. feature 10 (0.027004)\n",
      "13. feature 34 (0.026700)\n",
      "14. feature 38 (0.026430)\n",
      "15. feature 27 (0.026057)\n",
      "16. feature 60 (0.025927)\n",
      "17. feature 19 (0.024751)\n",
      "18. feature 54 (0.024224)\n",
      "19. feature 29 (0.023613)\n",
      "20. feature 53 (0.023135)\n",
      "21. feature 2 (0.021557)\n",
      "22. feature 58 (0.021439)\n",
      "23. feature 44 (0.020915)\n",
      "24. feature 51 (0.020686)\n",
      "25. feature 18 (0.020295)\n",
      "26. feature 46 (0.020273)\n",
      "27. feature 37 (0.018401)\n",
      "28. feature 5 (0.017972)\n",
      "29. feature 62 (0.017659)\n",
      "30. feature 45 (0.017604)\n",
      "31. feature 50 (0.016956)\n",
      "32. feature 35 (0.016818)\n",
      "33. feature 12 (0.014358)\n",
      "34. feature 52 (0.014117)\n",
      "35. feature 25 (0.013710)\n",
      "36. feature 59 (0.011279)\n",
      "37. feature 9 (0.010519)\n",
      "38. feature 41 (0.010459)\n",
      "39. feature 3 (0.010360)\n",
      "40. feature 4 (0.009250)\n",
      "41. feature 22 (0.008754)\n",
      "42. feature 17 (0.008086)\n",
      "43. feature 6 (0.008084)\n",
      "44. feature 11 (0.006760)\n",
      "45. feature 14 (0.005263)\n",
      "46. feature 63 (0.003521)\n",
      "47. feature 1 (0.002720)\n",
      "48. feature 49 (0.002657)\n",
      "49. feature 57 (0.002154)\n",
      "50. feature 55 (0.001885)\n",
      "51. feature 7 (0.000752)\n",
      "52. feature 15 (0.000584)\n",
      "53. feature 23 (0.000363)\n",
      "54. feature 47 (0.000080)\n",
      "55. feature 8 (0.000061)\n",
      "56. feature 24 (0.000056)\n",
      "57. feature 16 (0.000053)\n",
      "58. feature 48 (0.000049)\n",
      "59. feature 31 (0.000033)\n",
      "60. feature 40 (0.000029)\n",
      "61. feature 56 (0.000018)\n",
      "62. feature 32 (0.000000)\n",
      "63. feature 39 (0.000000)\n",
      "64. feature 0 (0.000000)\n"
     ]
    },
    {
     "data": {
      "image/png": "[encoded data removed]",
      "text/plain": [
       "<matplotlib.figure.Figure at 0x113f19da0>"
      ]
     },
     "metadata": {
      "image/png": {
       "height": 489,
       "width": 500
      }
     },
     "output_type": "display_data"
    }
   ],
   "source": [
    "importances = forest.feature_importances_\n",
    "std = np.std([tree.feature_importances_ for tree in forest.estimators_],\n",
    "             axis=0)\n",
    "indices = np.argsort(importances)[::-1]\n",
    "\n",
    "# Print the feature ranking\n",
    "print(\"Feature ranking:\")\n",
    "\n",
    "for f in range(X.shape[1]):\n",
    "    print(\"%d. feature %d (%f)\" % (f + 1, indices[f], importances[indices[f]]))\n",
    "\n",
    "    \n",
    "# only plot the M most important\n",
    "M = 20\n",
    "most_important = indices[:M]\n",
    "    \n",
    "# Plot the feature importances of the forest\n",
    "plt.figure()\n",
    "plt.title(\"Feature importances\")\n",
    "plt.bar(range(M), importances[most_important],\n",
    "       color=\"r\", yerr=std[most_important], align=\"center\")\n",
    "plt.xticks(range(M), most_important)\n",
    "plt.xlim([-1, M])\n",
    "plt.show()"
   ]
  },
  {
   "cell_type": "code",
   "execution_count": 35,
   "metadata": {
    "collapsed": false,
    "deletable": true,
    "editable": true
   },
   "outputs": [
    {
     "ename": "FileNotFoundError",
     "evalue": "[Errno 2] No such file or directory: 'images/importances_RandomForest.png'",
     "output_type": "error",
     "traceback": [
      "\u001b[0;31m---------------------------------------------------------------------------\u001b[0m",
      "\u001b[0;31mFileNotFoundError\u001b[0m                         Traceback (most recent call last)",
      "\u001b[0;32m<ipython-input-35-4caa7e82f3a7>\u001b[0m in \u001b[0;36m<module>\u001b[0;34m()\u001b[0m\n\u001b[1;32m      2\u001b[0m \u001b[0mplt\u001b[0m\u001b[0;34m.\u001b[0m\u001b[0mcolorbar\u001b[0m\u001b[0;34m(\u001b[0m\u001b[0;34m)\u001b[0m\u001b[0;34m\u001b[0m\u001b[0m\n\u001b[1;32m      3\u001b[0m \u001b[0mplt\u001b[0m\u001b[0;34m.\u001b[0m\u001b[0mtitle\u001b[0m\u001b[0;34m(\u001b[0m\u001b[0;34m'Random Forest'\u001b[0m\u001b[0;34m)\u001b[0m\u001b[0;34m\u001b[0m\u001b[0m\n\u001b[0;32m----> 4\u001b[0;31m \u001b[0mplt\u001b[0m\u001b[0;34m.\u001b[0m\u001b[0msavefig\u001b[0m\u001b[0;34m(\u001b[0m\u001b[0;34m'images/importances_RandomForest.png'\u001b[0m\u001b[0;34m)\u001b[0m\u001b[0;34m\u001b[0m\u001b[0m\n\u001b[0m",
      "\u001b[0;32m/Users/cremones/anaconda3/envs/advancedComputing/lib/python3.6/site-packages/matplotlib/pyplot.py\u001b[0m in \u001b[0;36msavefig\u001b[0;34m(*args, **kwargs)\u001b[0m\n\u001b[1;32m    695\u001b[0m \u001b[0;32mdef\u001b[0m \u001b[0msavefig\u001b[0m\u001b[0;34m(\u001b[0m\u001b[0;34m*\u001b[0m\u001b[0margs\u001b[0m\u001b[0;34m,\u001b[0m \u001b[0;34m**\u001b[0m\u001b[0mkwargs\u001b[0m\u001b[0;34m)\u001b[0m\u001b[0;34m:\u001b[0m\u001b[0;34m\u001b[0m\u001b[0m\n\u001b[1;32m    696\u001b[0m     \u001b[0mfig\u001b[0m \u001b[0;34m=\u001b[0m \u001b[0mgcf\u001b[0m\u001b[0;34m(\u001b[0m\u001b[0;34m)\u001b[0m\u001b[0;34m\u001b[0m\u001b[0m\n\u001b[0;32m--> 697\u001b[0;31m     \u001b[0mres\u001b[0m \u001b[0;34m=\u001b[0m \u001b[0mfig\u001b[0m\u001b[0;34m.\u001b[0m\u001b[0msavefig\u001b[0m\u001b[0;34m(\u001b[0m\u001b[0;34m*\u001b[0m\u001b[0margs\u001b[0m\u001b[0;34m,\u001b[0m \u001b[0;34m**\u001b[0m\u001b[0mkwargs\u001b[0m\u001b[0;34m)\u001b[0m\u001b[0;34m\u001b[0m\u001b[0m\n\u001b[0m\u001b[1;32m    698\u001b[0m     \u001b[0mfig\u001b[0m\u001b[0;34m.\u001b[0m\u001b[0mcanvas\u001b[0m\u001b[0;34m.\u001b[0m\u001b[0mdraw_idle\u001b[0m\u001b[0;34m(\u001b[0m\u001b[0;34m)\u001b[0m   \u001b[0;31m# need this if 'transparent=True' to reset colors\u001b[0m\u001b[0;34m\u001b[0m\u001b[0m\n\u001b[1;32m    699\u001b[0m     \u001b[0;32mreturn\u001b[0m \u001b[0mres\u001b[0m\u001b[0;34m\u001b[0m\u001b[0m\n",
      "\u001b[0;32m/Users/cremones/anaconda3/envs/advancedComputing/lib/python3.6/site-packages/matplotlib/figure.py\u001b[0m in \u001b[0;36msavefig\u001b[0;34m(self, *args, **kwargs)\u001b[0m\n\u001b[1;32m   1570\u001b[0m             \u001b[0mself\u001b[0m\u001b[0;34m.\u001b[0m\u001b[0mset_frameon\u001b[0m\u001b[0;34m(\u001b[0m\u001b[0mframeon\u001b[0m\u001b[0;34m)\u001b[0m\u001b[0;34m\u001b[0m\u001b[0m\n\u001b[1;32m   1571\u001b[0m \u001b[0;34m\u001b[0m\u001b[0m\n\u001b[0;32m-> 1572\u001b[0;31m         \u001b[0mself\u001b[0m\u001b[0;34m.\u001b[0m\u001b[0mcanvas\u001b[0m\u001b[0;34m.\u001b[0m\u001b[0mprint_figure\u001b[0m\u001b[0;34m(\u001b[0m\u001b[0;34m*\u001b[0m\u001b[0margs\u001b[0m\u001b[0;34m,\u001b[0m \u001b[0;34m**\u001b[0m\u001b[0mkwargs\u001b[0m\u001b[0;34m)\u001b[0m\u001b[0;34m\u001b[0m\u001b[0m\n\u001b[0m\u001b[1;32m   1573\u001b[0m \u001b[0;34m\u001b[0m\u001b[0m\n\u001b[1;32m   1574\u001b[0m         \u001b[0;32mif\u001b[0m \u001b[0mframeon\u001b[0m\u001b[0;34m:\u001b[0m\u001b[0;34m\u001b[0m\u001b[0m\n",
      "\u001b[0;32m/Users/cremones/anaconda3/envs/advancedComputing/lib/python3.6/site-packages/matplotlib/backend_bases.py\u001b[0m in \u001b[0;36mprint_figure\u001b[0;34m(self, filename, dpi, facecolor, edgecolor, orientation, format, **kwargs)\u001b[0m\n\u001b[1;32m   2242\u001b[0m                 \u001b[0morientation\u001b[0m\u001b[0;34m=\u001b[0m\u001b[0morientation\u001b[0m\u001b[0;34m,\u001b[0m\u001b[0;34m\u001b[0m\u001b[0m\n\u001b[1;32m   2243\u001b[0m                 \u001b[0mbbox_inches_restore\u001b[0m\u001b[0;34m=\u001b[0m\u001b[0m_bbox_inches_restore\u001b[0m\u001b[0;34m,\u001b[0m\u001b[0;34m\u001b[0m\u001b[0m\n\u001b[0;32m-> 2244\u001b[0;31m                 **kwargs)\n\u001b[0m\u001b[1;32m   2245\u001b[0m         \u001b[0;32mfinally\u001b[0m\u001b[0;34m:\u001b[0m\u001b[0;34m\u001b[0m\u001b[0m\n\u001b[1;32m   2246\u001b[0m             \u001b[0;32mif\u001b[0m \u001b[0mbbox_inches\u001b[0m \u001b[0;32mand\u001b[0m \u001b[0mrestore_bbox\u001b[0m\u001b[0;34m:\u001b[0m\u001b[0;34m\u001b[0m\u001b[0m\n",
      "\u001b[0;32m/Users/cremones/anaconda3/envs/advancedComputing/lib/python3.6/site-packages/matplotlib/backends/backend_agg.py\u001b[0m in \u001b[0;36mprint_png\u001b[0;34m(self, filename_or_obj, *args, **kwargs)\u001b[0m\n\u001b[1;32m    548\u001b[0m         \u001b[0mrenderer\u001b[0m\u001b[0;34m.\u001b[0m\u001b[0mdpi\u001b[0m \u001b[0;34m=\u001b[0m \u001b[0mself\u001b[0m\u001b[0;34m.\u001b[0m\u001b[0mfigure\u001b[0m\u001b[0;34m.\u001b[0m\u001b[0mdpi\u001b[0m\u001b[0;34m\u001b[0m\u001b[0m\n\u001b[1;32m    549\u001b[0m         \u001b[0;32mif\u001b[0m \u001b[0mis_string_like\u001b[0m\u001b[0;34m(\u001b[0m\u001b[0mfilename_or_obj\u001b[0m\u001b[0;34m)\u001b[0m\u001b[0;34m:\u001b[0m\u001b[0;34m\u001b[0m\u001b[0m\n\u001b[0;32m--> 550\u001b[0;31m             \u001b[0mfilename_or_obj\u001b[0m \u001b[0;34m=\u001b[0m \u001b[0mopen\u001b[0m\u001b[0;34m(\u001b[0m\u001b[0mfilename_or_obj\u001b[0m\u001b[0;34m,\u001b[0m \u001b[0;34m'wb'\u001b[0m\u001b[0;34m)\u001b[0m\u001b[0;34m\u001b[0m\u001b[0m\n\u001b[0m\u001b[1;32m    551\u001b[0m             \u001b[0mclose\u001b[0m \u001b[0;34m=\u001b[0m \u001b[0;32mTrue\u001b[0m\u001b[0;34m\u001b[0m\u001b[0m\n\u001b[1;32m    552\u001b[0m         \u001b[0;32melse\u001b[0m\u001b[0;34m:\u001b[0m\u001b[0;34m\u001b[0m\u001b[0m\n",
      "\u001b[0;31mFileNotFoundError\u001b[0m: [Errno 2] No such file or directory: 'images/importances_RandomForest.png'"
     ]
    },
    {
     "data": {
      "image/png": "[encoded data removed]",
      "text/plain": [
       "<matplotlib.figure.Figure at 0x112522518>"
      ]
     },
     "metadata": {
      "image/png": {
       "height": 459,
       "width": 469
      }
     },
     "output_type": "display_data"
    }
   ],
   "source": [
    "plt.imshow(importances.reshape((8,8)))\n",
    "plt.colorbar()\n",
    "plt.title('Random Forest')\n",
    "plt.savefig('images/importances_RandomForest.png')\n"
   ]
  },
  {
   "cell_type": "markdown",
   "metadata": {
    "deletable": true,
    "editable": true
   },
   "source": [
    "## ExtraTrees"
   ]
  },
  {
   "cell_type": "code",
   "execution_count": null,
   "metadata": {
    "collapsed": false,
    "deletable": true,
    "editable": true
   },
   "outputs": [],
   "source": [
    "forest = ExtraTreesClassifier(n_estimators=1200)\n",
    "forest.random_state = 42*42\n",
    "forest.fit(X_train,y_train)\n",
    "forest.score(X_val, y_val)"
   ]
  },
  {
   "cell_type": "code",
   "execution_count": null,
   "metadata": {
    "collapsed": false,
    "deletable": true,
    "editable": true
   },
   "outputs": [],
   "source": [
    "importances = forest.feature_importances_\n",
    "std = np.std([tree.feature_importances_ for tree in forest.estimators_],\n",
    "             axis=0)\n",
    "indices = np.argsort(importances)[::-1]\n",
    "\n",
    "# Print the feature ranking\n",
    "print(\"Feature ranking:\")\n",
    "\n",
    "for f in range(X.shape[1]):\n",
    "    print(\"%d. feature %d (%f)\" % (f + 1, indices[f], importances[indices[f]]))\n",
    "\n",
    "    \n",
    "# only plot the M most important\n",
    "M = 20\n",
    "most_important = indices[:M]\n",
    "    \n",
    "# Plot the feature importances of the forest\n",
    "plt.figure()\n",
    "plt.title(\"Feature importances\")\n",
    "plt.bar(range(M), importances[most_important],\n",
    "       color=\"r\", yerr=std[most_important], align=\"center\")\n",
    "plt.xticks(range(M), most_important)\n",
    "plt.xlim([-1, M])\n",
    "plt.show()"
   ]
  },
  {
   "cell_type": "code",
   "execution_count": null,
   "metadata": {
    "collapsed": false,
    "deletable": true,
    "editable": true
   },
   "outputs": [],
   "source": [
    "plt.imshow(importances.reshape((8,8)))\n",
    "plt.colorbar()\n",
    "plt.title('Extra Trees')\n",
    "plt.savefig('images/importances_ExtraTrees.png')"
   ]
  },
  {
   "cell_type": "markdown",
   "metadata": {
    "deletable": true,
    "editable": true
   },
   "source": [
    "### GradientBoosted"
   ]
  },
  {
   "cell_type": "code",
   "execution_count": null,
   "metadata": {
    "collapsed": false
   },
   "outputs": [],
   "source": [
    "n_estimators = [100, 200, 400, 800, 1200]\n",
    "learning_rates = [0.01, 0.05, 0.1, 0.2, 0.4]\n",
    "max_depth = [1, 2, 3, 4]\n",
    "for n in n_estimators:\n",
    "    for r in learning_rates:\n",
    "        for d in max_depth:\n",
    "            forest = GradientBoostingClassifier(n_estimators=n, loss='deviance', learning_rate=r, max_depth=d)\n",
    "            forest.random_state = 42*42\n",
    "            forest.fit(X_train,y_train)\n",
    "            print(n, r, d, forest.score(X_val, y_val))"
   ]
  },
  {
   "cell_type": "code",
   "execution_count": null,
   "metadata": {
    "collapsed": false
   },
   "outputs": [],
   "source": [
    "hyperparams = np.loadtxt(\"GradientBoosting_hyperparams_Question2.dat\")\n",
    "print (np.max(hyperparams[:,-1]))\n",
    "print (hyperparams[ hyperparams[:,-1] == np.max(hyperparams[:,-1]), : ] )"
   ]
  },
  {
   "cell_type": "code",
   "execution_count": null,
   "metadata": {
    "collapsed": false,
    "deletable": true,
    "editable": true
   },
   "outputs": [],
   "source": [
    "from sklearn.ensemble import GradientBoostingClassifier\n",
    "forest = GradientBoostingClassifier(n_estimators=200, loss='deviance', learning_rate=0.1, max_depth=2)\n",
    "forest.random_state = 42*42\n",
    "forest.fit(X_train,y_train)\n",
    "forest.score(X_val, y_val)"
   ]
  },
  {
   "cell_type": "code",
   "execution_count": null,
   "metadata": {
    "collapsed": false,
    "deletable": true,
    "editable": true
   },
   "outputs": [],
   "source": [
    "importances = forest.feature_importances_\n",
    "#std = np.std([tree.feature_importances_ for tree in forest.estimators_],\n",
    "#             axis=0)\n",
    "indices = np.argsort(importances)[::-1]\n",
    "\n",
    "# Print the feature ranking\n",
    "print(\"Feature ranking:\")\n",
    "\n",
    "for f in range(X.shape[1]):\n",
    "    print(\"%d. feature %d (%f)\" % (f + 1, indices[f], importances[indices[f]]))\n",
    "\n",
    "    \n",
    "# only plot the M most important\n",
    "M = 20\n",
    "most_important = indices[:M]\n",
    "    \n",
    "# Plot the feature importances of the forest\n",
    "plt.figure()\n",
    "plt.title(\"Feature importances\")\n",
    "#plt.bar(range(M), importances[most_important],\n",
    "#       color=\"r\", yerr=std[most_important], align=\"center\")\n",
    "plt.bar(range(M), importances[most_important],\n",
    "       color=\"r\", align=\"center\")\n",
    "plt.xticks(range(M), most_important)\n",
    "plt.xlim([-1, M])\n",
    "plt.show()"
   ]
  },
  {
   "cell_type": "code",
   "execution_count": null,
   "metadata": {
    "collapsed": false,
    "deletable": true,
    "editable": true
   },
   "outputs": [],
   "source": [
    "plt.imshow(importances.reshape((8,8)))\n",
    "plt.colorbar()\n",
    "plt.title('Gradient Boosted')\n",
    "plt.savefig('images/importances_GradientBoosted.png')"
   ]
  },
  {
   "cell_type": "markdown",
   "metadata": {},
   "source": [
    "## Bonus: binary classification"
   ]
  },
  {
   "cell_type": "code",
   "execution_count": null,
   "metadata": {
    "collapsed": false
   },
   "outputs": [],
   "source": [
    "y_train_binary = y_train % 2\n",
    "y_val_binary = y_val % 2\n",
    "print(y_val_binary)"
   ]
  },
  {
   "cell_type": "code",
   "execution_count": null,
   "metadata": {
    "collapsed": false
   },
   "outputs": [],
   "source": [
    "forest = RandomForestClassifier(n_estimators=1200)\n",
    "forest.random_state = 42*42\n",
    "forest.fit(X_train,y_train_binary)\n",
    "print(forest.score(X_val, y_val_binary))\n",
    "importances = forest.feature_importances_\n",
    "std = np.std([tree.feature_importances_ for tree in forest.estimators_],\n",
    "             axis=0)\n",
    "plt.imshow(importances.reshape((8,8)))\n",
    "plt.colorbar()\n",
    "plt.title('Random Forest')\n",
    "plt.savefig('images/importances_RandomForest_binary.png')"
   ]
  },
  {
   "cell_type": "code",
   "execution_count": null,
   "metadata": {
    "collapsed": false
   },
   "outputs": [],
   "source": [
    "forest = ExtraTreesClassifier(n_estimators=1200)\n",
    "forest.random_state = 42*42\n",
    "forest.fit(X_train,y_train_binary)\n",
    "print(forest.score(X_val, y_val_binary))\n",
    "importances = forest.feature_importances_\n",
    "std = np.std([tree.feature_importances_ for tree in forest.estimators_],\n",
    "             axis=0)\n",
    "plt.imshow(importances.reshape((8,8)))\n",
    "plt.colorbar()\n",
    "plt.title('Extra Trees')\n",
    "plt.savefig('images/importances_ExtraTrees_binary.png')"
   ]
  },
  {
   "cell_type": "code",
   "execution_count": null,
   "metadata": {
    "collapsed": false
   },
   "outputs": [],
   "source": [
    "forest = GradientBoostingClassifier(n_estimators=200, loss='deviance', learning_rate=0.1, max_depth=2)\n",
    "forest.random_state = 42*42\n",
    "forest.fit(X_train,y_train_binary)\n",
    "print(forest.score(X_val, y_val_binary))\n",
    "importances = forest.feature_importances_\n",
    "plt.imshow(importances.reshape((8,8)))\n",
    "plt.colorbar()\n",
    "plt.title('Gradient Boosted')\n",
    "plt.savefig('images/importances_GradientBoosted_binary.png')"
   ]
  },
  {
   "cell_type": "markdown",
   "metadata": {
    "deletable": true,
    "editable": true
   },
   "source": [
    "---\n",
    "\n",
    "## Question 3\n",
    "\n",
    "This is a regression problem. Use a gradient boosted tree regressor (tune the `max_depth`, `learning_rate` and `n_estimators` parameters) to study the importance of the different features as well as the partial dependence of the output on individual features as well as pairs of features.\n",
    "\n",
    "* can you identify uninformative features?\n",
    "* how do the interactions between the features show up in the partial dependence plots?\n",
    "\n",
    "(Help: `rgr = GradientBoostingRegressor(n_estimators=200, max_depth=2, learning_rate=0.1)\n",
    "` seems to work quite well)\n",
    "(Help: to produce 1D and 2D partial dependence plots pass `[0,1, (0,1)]` as the `features` argument of `plot_partial_dependence`. More details in the function's documentation.)\n"
   ]
  },
  {
   "cell_type": "code",
   "execution_count": null,
   "metadata": {
    "collapsed": false,
    "deletable": true,
    "editable": true
   },
   "outputs": [],
   "source": [
    "from sklearn.ensemble import GradientBoostingRegressor\n",
    "\n",
    "def make_data(n_samples=800, n_features=8, noise=0.2, random_state=2):\n",
    "    generator = check_random_state(random_state)\n",
    "\n",
    "    X = generator.rand(n_samples, n_features)\n",
    "    y = 10 * (X[:, 0] * X[:, 1]) + 20 * (X[:, 2] - 0.5) ** 2 \\\n",
    "        + 10 * X[:, 3] + 10 * X[:, 4] + noise * generator.randn(n_samples)\n",
    "\n",
    "    return X, y\n",
    "\n",
    "X,y = make_data()"
   ]
  },
  {
   "cell_type": "code",
   "execution_count": null,
   "metadata": {
    "collapsed": true
   },
   "outputs": [],
   "source": [
    "from sklearn.model_selection import train_test_split\n",
    "X_train, X_val, y_train, y_val = train_test_split(X,y,test_size=0.2,random_state=42)"
   ]
  },
  {
   "cell_type": "markdown",
   "metadata": {},
   "source": [
    "# Summary of results\n",
    "\n",
    "### Feature importance\n",
    "\n",
    "Reminder from [Scikit doc](http://scikit-learn.org/stable/modules/generated/sklearn.tree.DecisionTreeClassifier.html#sklearn.tree.DecisionTreeClassifier): The importance of a feature is computed as the (normalized) total reduction of the impurity criterion brought by that feature.\n",
    "\n",
    "From the way the $y$ data is generated and the above definition of importance, I make the following assumptions:\n",
    "- features 3,4 are the most informative, because they are used in the generation of $y$ but also include noise;\n",
    "- features 0,1,2 are informative, but not so much because they don't have any noise, and as such the reduction of impurity brought by separating them is smaller than if they had noise;\n",
    "- features 5,6,7 are uninformative.\n",
    "\n",
    "The GradientBoostingRegressor gives the following importance ranking: 2,7,3,5,4,0,1,6. We see that it makes several mistakes on this dataset in terms of importance, by believing that 7 is the second most-informative feature and that 4 is only the sixth most informative. \n",
    "The ExtraTreesRegressor, on the other hand, gives very clear results that are in line with my previous assumptions. \n",
    "\n",
    "Strangely, the GradientBoostingRegressor achieves a much higher score (defined here as the $R^2$ coefficient) even though it fails to recognize the most informative features.\n",
    "\n",
    "### Partial dependence plot\n",
    "\n",
    "The results from the partial dependence plots are quite stunning.\n",
    "<img src=\"images/partial_dependence_GradientBoosting.png\" />\n",
    "\n",
    "These plots are able to recover the nature of dependence of the individual variables, for example the quadratic dependence on feature 2. Unfortunately, it is difficult for such plots to highlight interactions between features, such as the product of features 0 and 1. Nonetheless, they are a very valuable source of information."
   ]
  },
  {
   "cell_type": "markdown",
   "metadata": {
    "collapsed": false,
    "deletable": true,
    "editable": true
   },
   "source": [
    "#### Tuning hyperparameters"
   ]
  },
  {
   "cell_type": "code",
   "execution_count": null,
   "metadata": {
    "collapsed": false
   },
   "outputs": [],
   "source": [
    "n_estimators= [100, 200, 400]\n",
    "max_depth= [1,2]\n",
    "learning_rate = [0.05, 0.1, 0.2, 0.4, 0.6]\n",
    "scores = np.zeros((len(n_estimators)*len(max_depth)*len(learning_rate),4))\n",
    "row=0\n",
    "for n in n_estimators:\n",
    "    for d in max_depth:\n",
    "        for r in learning_rate:\n",
    "            rgr = GradientBoostingRegressor(n_estimators=n, max_depth=d, learning_rate=r)\n",
    "            rgr.fit(X_train,y_train)\n",
    "            score = rgr.score(X_val,y_val)\n",
    "            scores[row,0] = n\n",
    "            scores[row,1] = d\n",
    "            scores[row,2] = r\n",
    "            scores[row,3] = score\n",
    "            row += 1\n",
    "\n",
    "print(scores)\n",
    "print(np.max(scores[:,-1]))\n",
    "print(scores[ scores[:,-1] == np.max(scores[:,-1]) ,:] )"
   ]
  },
  {
   "cell_type": "code",
   "execution_count": null,
   "metadata": {
    "collapsed": false
   },
   "outputs": [],
   "source": [
    "rgr = GradientBoostingRegressor(n_estimators=400, max_depth=2, learning_rate=0.2)\n",
    "rgr.random_state = 42\n",
    "rgr.fit(X_train,y_train)\n",
    "score = rgr.score(X_val,y_val)\n",
    "print(score)"
   ]
  },
  {
   "cell_type": "code",
   "execution_count": null,
   "metadata": {
    "collapsed": false
   },
   "outputs": [],
   "source": [
    "importances = rgr.feature_importances_\n",
    "indices = np.argsort(importances)[::-1]\n",
    "\n",
    "# Print the feature ranking\n",
    "print(\"Feature ranking:\")\n",
    "\n",
    "for f in range(X.shape[1]):\n",
    "    print(\"%d. feature %d (%f)\" % (f + 1, indices[f], importances[indices[f]]))\n",
    "    \n",
    "# Plot the feature importances of the forest\n",
    "plt.figure()\n",
    "plt.title(\"Feature importances\")\n",
    "\n",
    "plt.bar(range(len(indices)), importances[indices],\n",
    "       color=\"r\", align=\"center\")\n",
    "plt.xticks(range(len(indices)), indices)\n"
   ]
  },
  {
   "cell_type": "code",
   "execution_count": null,
   "metadata": {
    "collapsed": false,
    "deletable": true,
    "editable": true
   },
   "outputs": [],
   "source": [
    "from sklearn.ensemble import ExtraTreesRegressor\n",
    "rgr = ExtraTreesRegressor(n_estimators=400)\n",
    "rgr.fit(X_train,y_train)\n",
    "score = rgr.score(X_val,y_val)\n",
    "print(score)"
   ]
  },
  {
   "cell_type": "code",
   "execution_count": null,
   "metadata": {
    "collapsed": false,
    "deletable": true,
    "editable": true
   },
   "outputs": [],
   "source": [
    "importances = rgr.feature_importances_\n",
    "indices = np.argsort(importances)[::-1]\n",
    "\n",
    "# Print the feature ranking\n",
    "print(\"Feature ranking:\")\n",
    "\n",
    "for f in range(X.shape[1]):\n",
    "    print(\"%d. feature %d (%f)\" % (f + 1, indices[f], importances[indices[f]]))\n",
    "    \n",
    "# Plot the feature importances of the forest\n",
    "plt.figure()\n",
    "plt.title(\"Feature importances\")\n",
    "\n",
    "plt.bar(range(len(indices)), importances[indices],\n",
    "       color=\"r\", align=\"center\")\n",
    "plt.xticks(range(len(indices)), indices)\n"
   ]
  },
  {
   "cell_type": "code",
   "execution_count": null,
   "metadata": {
    "collapsed": false
   },
   "outputs": [],
   "source": [
    "from sklearn.ensemble.partial_dependence import plot_partial_dependence\n",
    "\n",
    "rgr = GradientBoostingRegressor(n_estimators=400, max_depth=2, learning_rate=0.2)\n",
    "rgr.random_state = 42\n",
    "features = [0, 1, (0,1), 2,3, 4,5,6,7]\n",
    "rgr.fit(X_train,y_train)\n",
    "fig, axs = plot_partial_dependence(rgr, X_train, features)\n",
    "plt.savefig('images/partial_dependence_GradientBoosting.png')"
   ]
  },
  {
   "cell_type": "markdown",
   "metadata": {
    "deletable": true,
    "editable": true
   },
   "source": [
    "---\n",
    "\n",
    "## (Bonus) Question 4\n",
    "\n",
    "House prices in California. Use a gradient boosted regression tree model to build a model that can predict house prices in California (`GradientBoostingRegressor` is your friend).\n",
    "\n",
    "Plot each of the features as a scatter plot with the target to learn about each variable. You can also make a plot of two features and use the target as colour.\n",
    "\n",
    "Fit a model and tune the model complexity using a training and test data set.\n",
    "\n",
    "Explore the feature importances and partial dependences that are important to the house price."
   ]
  },
  {
   "cell_type": "code",
   "execution_count": null,
   "metadata": {
    "collapsed": false,
    "deletable": true,
    "editable": true
   },
   "outputs": [],
   "source": [
    "from sklearn.datasets.california_housing import fetch_california_housing\n",
    "\n",
    "cal_housing = fetch_california_housing()\n",
    "\n",
    "# if the above doesn't work, download `cal_housing_py3.pkl` from the GitHub repository\n",
    "# and adjust the path to the downloaded file which is passed to `load()`\n",
    "# uncomment the following lines\n",
    "#from sklearn.externals.joblib import load\n",
    "#d = load('/home/username/Downloads/cal_housing_py3.pkz')\n",
    "#X, y = d[:,1:], d[:,0]/100000\n",
    "#X[:, 2] /= X[:, 5]\n",
    "#X[:, 3] /= X[:, 5]\n",
    "#X[:, 5] = X[:, 4] / X[:, 5]"
   ]
  },
  {
   "cell_type": "code",
   "execution_count": null,
   "metadata": {
    "collapsed": false
   },
   "outputs": [],
   "source": [
    "print(cal_housing.DESCR)"
   ]
  },
  {
   "cell_type": "code",
   "execution_count": null,
   "metadata": {
    "collapsed": false
   },
   "outputs": [],
   "source": [
    "X = cal_housing.data\n",
    "y = cal_housing.target\n",
    "print(X.shape)\n",
    "print(np.unique(y))"
   ]
  },
  {
   "cell_type": "code",
   "execution_count": null,
   "metadata": {
    "collapsed": false
   },
   "outputs": [],
   "source": [
    "n_feat = 8\n",
    "for i in range(n_feat):\n",
    "    ax = plt.subplot(3,3,i+1)\n",
    "    ax.hist(X[:,i], bins=100)\n",
    "    ax.set_title(cal_housing.feature_names[i])"
   ]
  },
  {
   "cell_type": "code",
   "execution_count": null,
   "metadata": {
    "collapsed": false
   },
   "outputs": [],
   "source": [
    "n_feat = 8\n",
    "for i in range(n_feat):\n",
    "    ax = plt.subplot(3,3,i+1)\n",
    "    ax.scatter(X[:,i], y)\n",
    "    ax.set_title(cal_housing.feature_names[i])"
   ]
  },
  {
   "cell_type": "code",
   "execution_count": null,
   "metadata": {
    "collapsed": true
   },
   "outputs": [],
   "source": [
    "from sklearn.model_selection import train_test_split\n",
    "X_train, X_val, y_train, y_val = train_test_split(X,y,test_size=0.2,random_state=42)"
   ]
  },
  {
   "cell_type": "code",
   "execution_count": null,
   "metadata": {
    "collapsed": false
   },
   "outputs": [],
   "source": [
    "from sklearn.ensemble import GradientBoostingRegressor\n",
    "\n",
    "n_estimators= [200, 400, 800]\n",
    "max_depth= [7,8,9]\n",
    "learning_rate = [0.1, 0.2]\n",
    "scores = np.zeros((len(n_estimators)*len(max_depth)*len(learning_rate),4))\n",
    "row=0\n",
    "for n in n_estimators:\n",
    "    for d in max_depth:\n",
    "        for r in learning_rate:\n",
    "            rgr = GradientBoostingRegressor(n_estimators=n, max_depth=d, learning_rate=r)\n",
    "            rgr.random_state = 42\n",
    "            rgr.fit(X_train,y_train)\n",
    "            score = rgr.score(X_val,y_val)\n",
    "            scores[row,0] = n\n",
    "            scores[row,1] = d\n",
    "            scores[row,2] = r\n",
    "            scores[row,3] = score\n",
    "            row += 1\n",
    "\n",
    "print(scores)\n",
    "print(np.max(scores[:,-1]))\n",
    "print(scores[ scores[:,-1] == np.max(scores[:,-1]) ,:] )"
   ]
  },
  {
   "cell_type": "code",
   "execution_count": null,
   "metadata": {
    "collapsed": false
   },
   "outputs": [],
   "source": [
    "rgr = GradientBoostingRegressor(n_estimators=1600, max_depth=8, learning_rate=0.01)\n",
    "rgr.fit(X_train,y_train)\n",
    "pred = rgr.predict(X_val)\n",
    "print(rgr.score(X_val,y_val))"
   ]
  },
  {
   "cell_type": "code",
   "execution_count": null,
   "metadata": {
    "collapsed": false
   },
   "outputs": [],
   "source": [
    "plt.plot(y_val,pred,'ok')"
   ]
  },
  {
   "cell_type": "code",
   "execution_count": null,
   "metadata": {
    "collapsed": false
   },
   "outputs": [],
   "source": [
    "importances = rgr.feature_importances_\n",
    "indices = np.argsort(importances)[::-1]\n",
    "names = cal_housing.feature_names\n",
    "\n",
    "print(indices)\n",
    "\n",
    "# Print the feature ranking\n",
    "print(\"Feature ranking:\")\n",
    "\n",
    "for f in range(X.shape[1]):\n",
    "    print(\"%d. feature %s (%f)\" % (f + 1, names[indices[f]], importances[indices[f]]))\n",
    "\n",
    "# Plot the feature importances of the forest\n",
    "fig, ax = plt.subplots()\n",
    "plt.title(\"Feature importances\")\n",
    "\n",
    "ax.bar(range(len(indices)), importances[indices],\n",
    "       color=\"r\", align=\"center\")\n",
    "#plt.xticks(range(len(indices)), indices)\n",
    "\n",
    "labels = [item.get_text() for item in ax.get_xticklabels()]\n",
    "\n",
    "for i in range(len(names)):\n",
    "    labels[i+1] = names[indices[i]]\n",
    "\n",
    "ax.set_xticklabels(labels, rotation=45)"
   ]
  },
  {
   "cell_type": "code",
   "execution_count": null,
   "metadata": {
    "collapsed": false
   },
   "outputs": [],
   "source": [
    "from sklearn.ensemble.partial_dependence import plot_partial_dependence\n",
    "\n",
    "features = [0, 7, 6, 5, 2, 4]\n",
    "\n",
    "fig, axs = plot_partial_dependence(rgr, X_train, features)\n"
   ]
  },
  {
   "cell_type": "code",
   "execution_count": null,
   "metadata": {
    "collapsed": false
   },
   "outputs": [],
   "source": [
    "errors = (y_val - pred)**2\n",
    "max_err = np.max(errors)\n",
    "cmap=plt.get_cmap('viridis')\n",
    "\n",
    "sc = plt.scatter(X_val[:,-1],X_val[:,-2],c=cmap(errors/max_err))\n",
    "plt.title('errors')\n",
    "plt.xlabel(cal_housing.feature_names[-1])\n",
    "plt.ylabel(cal_housing.feature_names[-2])\n",
    "\n",
    "# strange stuff to do in order to plot colorbar\n",
    "# from http://stackoverflow.com/questions/6600579/colorbar-for-matplotlib-plot-surface-command\n",
    "import matplotlib.cm as cm\n",
    "m = cm.ScalarMappable(cmap=cm.viridis)\n",
    "m.set_array(errors/max_err)\n",
    "plt.colorbar(m)"
   ]
  },
  {
   "cell_type": "markdown",
   "metadata": {},
   "source": [
    "### Feature engineering"
   ]
  },
  {
   "cell_type": "code",
   "execution_count": null,
   "metadata": {
    "collapsed": false
   },
   "outputs": [],
   "source": [
    "print(cal_housing.feature_names)\n",
    "new_X_train = X_train[:,0]\n",
    "new_X_val = X_val[:,0]"
   ]
  },
  {
   "cell_type": "code",
   "execution_count": null,
   "metadata": {
    "collapsed": false
   },
   "outputs": [],
   "source": [
    "rgr = GradientBoostingRegressor(n_estimators=1600, max_depth=8, learning_rate=0.01)\n",
    "rgr.fit(new_X_train.reshape(-1, 1),y_train)\n",
    "pred = rgr.predict(new_X_val.reshape(-1, 1))\n",
    "print(rgr.score(new_X_val.reshape(-1, 1),y_val))"
   ]
  },
  {
   "cell_type": "code",
   "execution_count": null,
   "metadata": {
    "collapsed": false
   },
   "outputs": [],
   "source": [
    "plt.plot(y_val,pred,'ok')"
   ]
  },
  {
   "cell_type": "code",
   "execution_count": null,
   "metadata": {
    "collapsed": false
   },
   "outputs": [],
   "source": [
    "print(cal_housing.feature_names)\n",
    "new_X_train = X_train[:,[0,-2,-1,5]]\n",
    "new_X_val = X_val[:,[0,-2,-1,5]]\n",
    "print(new_X_train.shape)\n",
    "print(new_X_val.shape)"
   ]
  },
  {
   "cell_type": "code",
   "execution_count": null,
   "metadata": {
    "collapsed": false
   },
   "outputs": [],
   "source": [
    "rgr = GradientBoostingRegressor(n_estimators=1600, max_depth=8, learning_rate=0.01)\n",
    "rgr.fit(new_X_train,y_train)\n",
    "pred = rgr.predict(new_X_val)\n",
    "print(rgr.score(new_X_val,y_val))"
   ]
  },
  {
   "cell_type": "code",
   "execution_count": null,
   "metadata": {
    "collapsed": false
   },
   "outputs": [],
   "source": [
    "plt.plot(y_val,pred,'ok')"
   ]
  },
  {
   "cell_type": "code",
   "execution_count": null,
   "metadata": {
    "collapsed": false,
    "deletable": true,
    "editable": true
   },
   "outputs": [],
   "source": [
    "print(cal_housing.feature_names)\n",
    "rooms_per_person = X_train[:,2]/X_train[:,4]\n",
    "rooms_per_person = rooms_per_person.reshape(X_train.shape[0],1)\n",
    "\n",
    "new_X_train = X_train[:,[0,-2,-1,5]] \n",
    "new_X_train = np.hstack((new_X_train, rooms_per_person))\n",
    "print(new_X_train.shape)\n",
    "\n",
    "rooms_per_person_val = X_val[:,2]/X_val[:,4]\n",
    "rooms_per_person_val = rooms_per_person_val.reshape(X_val.shape[0],1)\n",
    "new_X_val = X_val[:,[0,-2,-1,5]]\n",
    "new_X_val = np.hstack((new_X_val, rooms_per_person_val))\n",
    "print(new_X_val.shape)"
   ]
  },
  {
   "cell_type": "code",
   "execution_count": null,
   "metadata": {
    "collapsed": false,
    "deletable": true,
    "editable": true
   },
   "outputs": [],
   "source": [
    "rgr = GradientBoostingRegressor(n_estimators=1600, max_depth=8, learning_rate=0.01)\n",
    "rgr.fit(new_X_train,y_train)\n",
    "pred = rgr.predict(new_X_val)\n",
    "print(rgr.score(new_X_val,y_val))"
   ]
  },
  {
   "cell_type": "code",
   "execution_count": null,
   "metadata": {
    "collapsed": false
   },
   "outputs": [],
   "source": [
    "plt.plot(y_val,pred,'ok')"
   ]
  },
  {
   "cell_type": "code",
   "execution_count": null,
   "metadata": {
    "collapsed": true
   },
   "outputs": [],
   "source": [
    "def get_quantile_based_boundaries(feature_values, num_buckets):\n",
    "    boundaries = np.arange(1.0, num_buckets) / (num_buckets)\n",
    "    quantiles = np.percentile(feature_values, 100*boundaries)\n",
    "    return quantiles\n",
    "    #return [quantiles[q] for q in quantiles.keys()]"
   ]
  },
  {
   "cell_type": "code",
   "execution_count": null,
   "metadata": {
    "collapsed": false
   },
   "outputs": [],
   "source": [
    "longitude_quantile_boundaries = get_quantile_based_boundaries(X_train[:,-1],3)\n",
    "latitude_quantile_boundaries = get_quantile_based_boundaries(X_train[:,-2],5)"
   ]
  },
  {
   "cell_type": "code",
   "execution_count": null,
   "metadata": {
    "collapsed": false
   },
   "outputs": [],
   "source": [
    "def bucketize(x, boundaries):\n",
    "    N = boundaries.shape[0]\n",
    "    out = np.zeros((x.shape[0],N+1))\n",
    "    for i,v in enumerate(x):\n",
    "        flag = True\n",
    "        for j,b in enumerate(boundaries):\n",
    "            if v < b:\n",
    "                out[i,j] = 1\n",
    "                flag = False\n",
    "                break\n",
    "        if flag:\n",
    "            out[i,-1] = 1\n",
    "    return out\n"
   ]
  },
  {
   "cell_type": "code",
   "execution_count": null,
   "metadata": {
    "collapsed": false
   },
   "outputs": [],
   "source": [
    "bucketized_longitude = bucketize(X_train[:,-1],longitude_quantile_boundaries)\n",
    "bucketized_latitude = bucketize(X_train[:,-2],latitude_quantile_boundaries)\n",
    "bucketized_longitude_val = bucketize(X_val[:,-1],longitude_quantile_boundaries)\n",
    "bucketized_latitude_val = bucketize(X_val[:,-2],latitude_quantile_boundaries)"
   ]
  },
  {
   "cell_type": "code",
   "execution_count": null,
   "metadata": {
    "collapsed": false
   },
   "outputs": [],
   "source": [
    "new_X_train = X_train[:,[0,5]] \n",
    "#new_X_train = new_X_train.reshape((X_train.shape[0],1))\n",
    "new_X_train = np.hstack((new_X_train, bucketized_latitude, bucketized_longitude))\n",
    "print(new_X_train.shape)\n",
    "new_X_val = X_val[:,[0,5]]\n",
    "#new_X_val = new_X_val.reshape((X_val.shape[0],1))\n",
    "new_X_val = np.hstack((new_X_val, bucketized_latitude_val, bucketized_longitude_val))\n",
    "print(new_X_val.shape)"
   ]
  },
  {
   "cell_type": "code",
   "execution_count": null,
   "metadata": {
    "collapsed": false
   },
   "outputs": [],
   "source": [
    "rgr = GradientBoostingRegressor(n_estimators=1600, max_depth=12, learning_rate=0.005)\n",
    "rgr.fit(new_X_train,y_train)\n",
    "pred = rgr.predict(new_X_val)\n",
    "print(rgr.score(new_X_val,y_val))"
   ]
  },
  {
   "cell_type": "code",
   "execution_count": null,
   "metadata": {
    "collapsed": false
   },
   "outputs": [],
   "source": [
    "plt.plot(X_val[:,0],y_val,'or',alpha=0.6)\n",
    "plt.plot(X_val[:,0],pred,'xk')"
   ]
  },
  {
   "cell_type": "code",
   "execution_count": null,
   "metadata": {
    "collapsed": true
   },
   "outputs": [],
   "source": []
  }
 ],
 "metadata": {
  "kernelspec": {
   "display_name": "Python 3",
   "language": "python",
   "name": "python3"
  },
  "language_info": {
   "codemirror_mode": {
    "name": "ipython",
    "version": 3
   },
   "file_extension": ".py",
   "mimetype": "text/x-python",
   "name": "python",
   "nbconvert_exporter": "python",
   "pygments_lexer": "ipython3",
   "version": "3.6.1"
  }
 },
 "nbformat": 4,
 "nbformat_minor": 2
}
